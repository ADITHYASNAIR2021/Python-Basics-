{
  "nbformat": 4,
  "nbformat_minor": 0,
  "metadata": {
    "colab": {
      "name": "python class .ipynb",
      "provenance": [],
      "collapsed_sections": []
    },
    "kernelspec": {
      "name": "python3",
      "display_name": "Python 3"
    },
    "language_info": {
      "name": "python"
    }
  },
  "cells": [
    {
      "cell_type": "markdown",
      "metadata": {
        "id": "eCqLUAk3DW_k"
      },
      "source": [
        "HELLO WORLD"
      ]
    },
    {
      "cell_type": "code",
      "metadata": {
        "id": "rMX5tVl1_pft"
      },
      "source": [
        "print(\"hellow world \")"
      ],
      "execution_count": null,
      "outputs": []
    },
    {
      "cell_type": "markdown",
      "metadata": {
        "id": "D6IOfPdKtq2P"
      },
      "source": [
        "**date and time **"
      ]
    },
    {
      "cell_type": "code",
      "metadata": {
        "id": "NyOQN7pKtqnp"
      },
      "source": [
        "import datetime\n",
        "now = datetime.datetime.now()\n",
        "print(\"Current date and time : \")\n",
        "print(now.strftime(\"%d-%m-%y %H:%M:%S\"))"
      ],
      "execution_count": null,
      "outputs": []
    },
    {
      "cell_type": "markdown",
      "metadata": {
        "id": "sm7QWBODUGuZ"
      },
      "source": [
        "**The calender .**"
      ]
    },
    {
      "cell_type": "code",
      "metadata": {
        "id": "gc62UjLVUGgd"
      },
      "source": [
        "import calendar\n",
        "print(\" month number is like january as 1 and february as 2 \")\n",
        "a=int(input(\"the year you needed to go >  \"))\n",
        "b=int(input(\"the number of month needed to go >  \"))\n",
        "print(calendar.month(a , b))"
      ],
      "execution_count": null,
      "outputs": []
    },
    {
      "cell_type": "code",
      "metadata": {
        "id": "V3ZYdzCyUtaU"
      },
      "source": [
        "import calendar\n",
        "print(calendar.weekheader(1))\n",
        "print(calendar.weekheader(2))\n",
        "print(calendar.weekheader(3))\n",
        "print(calendar.weekheader(4))\n",
        "print(calendar.weekheader(5))\n",
        "print(calendar.weekheader(6))"
      ],
      "execution_count": null,
      "outputs": []
    },
    {
      "cell_type": "code",
      "metadata": {
        "id": "2NhQcX7cVIXx"
      },
      "source": [
        "import calendar\n",
        "print(calendar)"
      ],
      "execution_count": null,
      "outputs": []
    },
    {
      "cell_type": "markdown",
      "metadata": {
        "id": "7fkHcL7xi6d_"
      },
      "source": [
        "# Check the Python **Version**"
      ]
    },
    {
      "cell_type": "code",
      "metadata": {
        "id": "-YxfdgkGi6TV"
      },
      "source": [
        " import sys\n",
        "print(sys.version)"
      ],
      "execution_count": null,
      "outputs": []
    },
    {
      "cell_type": "markdown",
      "metadata": {
        "id": "UGlUK1VMlUjz"
      },
      "source": [
        "codes "
      ]
    },
    {
      "cell_type": "code",
      "metadata": {
        "id": "rZRtQHAtlUYz"
      },
      "source": [
        "print(\"adithya \\n s nair \")\n",
        "\n",
        "print(\"adithya \\t s nair \")\n",
        "\n",
        "print(\"adithya \\\\ s nair \")"
      ],
      "execution_count": null,
      "outputs": []
    },
    {
      "cell_type": "markdown",
      "metadata": {
        "id": "U0WSTWQzDfzQ"
      },
      "source": [
        "CALCULATOR = usage of command ( float . int , bool )"
      ]
    },
    {
      "cell_type": "code",
      "metadata": {
        "id": "qNHcBoPY3OrQ"
      },
      "source": [
        "a = float(input('what is your first number ? '))\n",
        "b = float(input('what is your second number ? '))\n",
        "c = a+b \n",
        "print(\"your answer is \" + str(c))"
      ],
      "execution_count": null,
      "outputs": []
    },
    {
      "cell_type": "markdown",
      "metadata": {
        "id": "Dv35tEM6XDNd"
      },
      "source": [
        "*OR*"
      ]
    },
    {
      "cell_type": "code",
      "metadata": {
        "id": "OyWeiPs7XDAC"
      },
      "source": [
        "a = float(input('what is your first number ? '))\n",
        "b = float(input('what is your second number ? '))\n",
        "c = a+b \n",
        "print(f\"your answer is {c}\")"
      ],
      "execution_count": null,
      "outputs": []
    },
    {
      "cell_type": "markdown",
      "metadata": {
        "id": "9IaNZXxbDiVp"
      },
      "source": [
        "FIND A NUMBER"
      ]
    },
    {
      "cell_type": "code",
      "metadata": {
        "id": "dYk4XbCSDIrI"
      },
      "source": [
        "course = \"python course for biginners\"\n",
        "course.find(\"p\")"
      ],
      "execution_count": null,
      "outputs": []
    },
    {
      "cell_type": "markdown",
      "metadata": {
        "id": "Y0KEVphYDlQc"
      },
      "source": [
        "TO MAKE LOWER CASE"
      ]
    },
    {
      "cell_type": "code",
      "metadata": {
        "id": "qTRjA1llDDVd"
      },
      "source": [
        "course = \" python course for biginners \"\n",
        "course.lower()"
      ],
      "execution_count": null,
      "outputs": []
    },
    {
      "cell_type": "markdown",
      "metadata": {
        "id": "onrd395_Dnt7"
      },
      "source": [
        "TO MAKE UPPER CASE"
      ]
    },
    {
      "cell_type": "code",
      "metadata": {
        "id": "PXn0gNIYC6Jt"
      },
      "source": [
        "course = \" python course for biginners \"\n",
        "course.upper()"
      ],
      "execution_count": null,
      "outputs": []
    },
    {
      "cell_type": "markdown",
      "metadata": {
        "id": "BLDQji71Dp9u"
      },
      "source": [
        "TO REPLACE LETTER WITH OTHER LETTER."
      ]
    },
    {
      "cell_type": "code",
      "metadata": {
        "id": "btBQ9NV-8xYm"
      },
      "source": [
        "course = \" python course for biginners \"\n",
        "course.replace(\"n\" ,\"d\")\n",
        "course.replace(\"g\" ,\"a\")\n",
        "course.replace(\"t\" ,\"m\")"
      ],
      "execution_count": null,
      "outputs": []
    },
    {
      "cell_type": "markdown",
      "metadata": {
        "id": "ssjHSwtEDxGI"
      },
      "source": [
        "TO FIND IF A WORD IS IN A SENTENCE."
      ]
    },
    {
      "cell_type": "code",
      "metadata": {
        "id": "ClLIYQKI_KzV"
      },
      "source": [
        "course = \" python course for biginners \"\n",
        "print(\"python\" in course)\n",
        "print(\"integer\" in course)"
      ],
      "execution_count": null,
      "outputs": []
    },
    {
      "cell_type": "markdown",
      "metadata": {
        "id": "7RRN3j-6Af_k"
      },
      "source": [
        "**ARITHEMATIC PROBLEMS **\n"
      ]
    },
    {
      "cell_type": "markdown",
      "metadata": {
        "id": "2XpVilKjZFj5"
      },
      "source": [
        "ceiling ppty "
      ]
    },
    {
      "cell_type": "code",
      "metadata": {
        "id": "A2BO6dxrYqC-"
      },
      "source": [
        "import math\n",
        "math.ceil(2.9)"
      ],
      "execution_count": null,
      "outputs": []
    },
    {
      "cell_type": "markdown",
      "metadata": {
        "id": "AhBilHGXZCnQ"
      },
      "source": [
        "floor ppty "
      ]
    },
    {
      "cell_type": "code",
      "metadata": {
        "id": "djlmhDiFY8il"
      },
      "source": [
        "import math\n",
        "math.floor(2.9)"
      ],
      "execution_count": null,
      "outputs": []
    },
    {
      "cell_type": "markdown",
      "metadata": {
        "id": "nZWOFV_uZIW5"
      },
      "source": [
        "copy sighn ppty = Return a float with the magnitude (absolute value) of x but the sign of y. On platforms that support signed zeros,"
      ]
    },
    {
      "cell_type": "code",
      "metadata": {
        "id": "P0B_UBbbZILJ"
      },
      "source": [
        "import math\n",
        "math.copysign(2,-2)"
      ],
      "execution_count": null,
      "outputs": []
    },
    {
      "cell_type": "markdown",
      "metadata": {
        "id": "sn2iIj93Zrw_"
      },
      "source": [
        "fabs ppty = Return the absolute value of x."
      ]
    },
    {
      "cell_type": "code",
      "metadata": {
        "id": "NWgy8QsVZrly"
      },
      "source": [
        "import math\n",
        "math.fabs(-3.4)"
      ],
      "execution_count": null,
      "outputs": []
    },
    {
      "cell_type": "markdown",
      "metadata": {
        "id": "Vom19BzaaEIV"
      },
      "source": [
        "factorial function = Return x factorial as an integer. Raises ValueError if x is not integral or is negative.\n"
      ]
    },
    {
      "cell_type": "code",
      "metadata": {
        "id": "MVOS41raaD8X"
      },
      "source": [
        "import math \n",
        "math.factorial(5)"
      ],
      "execution_count": null,
      "outputs": []
    },
    {
      "cell_type": "markdown",
      "metadata": {
        "id": "vgNrKH2Jamah"
      },
      "source": [
        "**f mod** = Return fmod(x, y), as defined by the platform C library. Note that the Python expression x % y may not return the same result. The intent of the C standard is that fmod(x, y) be exactly (mathematically; to infinite precision) equal to x - n*y for some integer n such that the result has the same sign as x and magnitude less than abs(y). Python’s x % y returns a result with the sign of y instead, and may not be exactly computable for float arguments. For example, fmod(-1e-100, 1e100) is -1e-100, but the result of Python’s -1e-100 % 1e100 is 1e100-1e-100, which cannot be represented exactly as a float, and rounds to the surprising 1e100. For this reason, function fmod() is generally preferred when working with floats, while Python’s x % y is preferred when working with integers."
      ]
    },
    {
      "cell_type": "code",
      "metadata": {
        "id": "WT4OX1BXamOo"
      },
      "source": [
        "import math\n",
        "math.fmod(2,3)"
      ],
      "execution_count": null,
      "outputs": []
    },
    {
      "cell_type": "markdown",
      "metadata": {
        "id": "Vdo2zoNhBw7X"
      },
      "source": [
        "1) add"
      ]
    },
    {
      "cell_type": "code",
      "metadata": {
        "id": "ZqEcX6ujAROC"
      },
      "source": [
        "print(10+3)"
      ],
      "execution_count": null,
      "outputs": []
    },
    {
      "cell_type": "markdown",
      "metadata": {
        "id": "SOZ__QmTByqn"
      },
      "source": [
        "2) subtract"
      ]
    },
    {
      "cell_type": "code",
      "metadata": {
        "id": "Y1WWhWq9BAoM"
      },
      "source": [
        "print(10-3)"
      ],
      "execution_count": null,
      "outputs": []
    },
    {
      "cell_type": "markdown",
      "metadata": {
        "id": "wUnRBWxwB0il"
      },
      "source": [
        "3) multiply"
      ]
    },
    {
      "cell_type": "code",
      "metadata": {
        "id": "MJyJTWipBO3y"
      },
      "source": [
        "print(12*2)"
      ],
      "execution_count": null,
      "outputs": []
    },
    {
      "cell_type": "markdown",
      "metadata": {
        "id": "hAHigkHCB3QV"
      },
      "source": [
        "4 )divide with decimal"
      ]
    },
    {
      "cell_type": "code",
      "metadata": {
        "id": "YRidvzjXBLt2"
      },
      "source": [
        "print(10/3)"
      ],
      "execution_count": null,
      "outputs": []
    },
    {
      "cell_type": "markdown",
      "metadata": {
        "id": "pvemHMW8B78Q"
      },
      "source": [
        "5)divide without decimal"
      ]
    },
    {
      "cell_type": "code",
      "metadata": {
        "id": "Uwk6kd5NBSGC"
      },
      "source": [
        "print(10//3)"
      ],
      "execution_count": null,
      "outputs": []
    },
    {
      "cell_type": "markdown",
      "metadata": {
        "id": "prI4_88jCt3A"
      },
      "source": [
        "6) devide and print the reminder "
      ]
    },
    {
      "cell_type": "code",
      "metadata": {
        "id": "16twfekBCljX"
      },
      "source": [
        "print(10%3)"
      ],
      "execution_count": null,
      "outputs": []
    },
    {
      "cell_type": "markdown",
      "metadata": {
        "id": "WPResAvdEJ6U"
      },
      "source": [
        "7) to make power "
      ]
    },
    {
      "cell_type": "code",
      "metadata": {
        "id": "i64UpPp8EDGh"
      },
      "source": [
        "print(10**3)"
      ],
      "execution_count": null,
      "outputs": []
    },
    {
      "cell_type": "markdown",
      "metadata": {
        "id": "nTCYeZ4hFPkM"
      },
      "source": [
        "8 ) This is called augmented assignment operation, in which the first symbol is what is operation and the second symbol is the = so to get the same result as the x=x+3, and so many other operation is useful."
      ]
    },
    {
      "cell_type": "code",
      "metadata": {
        "id": "Ua2eePZXEsvk",
        "colab": {
          "base_uri": "https://localhost:8080/"
        },
        "outputId": "4278c1db-8971-4840-ec89-14cb6ca70d12"
      },
      "source": [
        "x=10\n",
        "x *= 3\n",
        "print(x)"
      ],
      "execution_count": null,
      "outputs": [
        {
          "output_type": "stream",
          "name": "stdout",
          "text": [
            "30\n"
          ]
        }
      ]
    },
    {
      "cell_type": "markdown",
      "metadata": {
        "id": "8RLPrX_8uMNZ"
      },
      "source": [
        "9 ) rounding off"
      ]
    },
    {
      "cell_type": "code",
      "metadata": {
        "id": "K5uIVzh8uL_k",
        "colab": {
          "base_uri": "https://localhost:8080/"
        },
        "outputId": "1c2fe61e-6c49-4dac-f58f-b265ff2491f7"
      },
      "source": [
        "x=3.5\n",
        "print(round(x))"
      ],
      "execution_count": null,
      "outputs": [
        {
          "output_type": "stream",
          "name": "stdout",
          "text": [
            "4\n"
          ]
        }
      ]
    },
    {
      "cell_type": "markdown",
      "metadata": {
        "id": "ja70tI0bvJP5"
      },
      "source": [
        "10 )** absolute value** - print positive value if the given value is negative ."
      ]
    },
    {
      "cell_type": "code",
      "metadata": {
        "id": "H4j_R84QvJC4"
      },
      "source": [
        "print(abs(-3))"
      ],
      "execution_count": null,
      "outputs": []
    },
    {
      "cell_type": "markdown",
      "metadata": {
        "id": "f1KtIqVpvucI"
      },
      "source": [
        "import math "
      ]
    },
    {
      "cell_type": "code",
      "metadata": {
        "id": "jaxgHgy-vuO1"
      },
      "source": [
        "import math"
      ],
      "execution_count": null,
      "outputs": []
    },
    {
      "cell_type": "markdown",
      "metadata": {
        "id": "Lhh9N2zGGbTU"
      },
      "source": [
        "Operator Precedence = used by bodmas \n"
      ]
    },
    {
      "cell_type": "code",
      "metadata": {
        "id": "CF7we3GHGaCJ"
      },
      "source": [
        "x=10+3*4\n",
        "print(x)"
      ],
      "execution_count": null,
      "outputs": []
    },
    {
      "cell_type": "markdown",
      "metadata": {
        "id": "k6lj7dIcrgvu"
      },
      "source": [
        "**complex number** = A complex number has a real and imaginary part for example 7+8j, 8+11j etc.\n",
        "\n"
      ]
    },
    {
      "cell_type": "code",
      "metadata": {
        "id": "quslW4k6rggx"
      },
      "source": [
        "x = 3 + 4j \n",
        "y = 9 + 8j \n",
        "print(y-x)"
      ],
      "execution_count": null,
      "outputs": []
    },
    {
      "cell_type": "markdown",
      "metadata": {
        "id": "SsXeQc3hsCCD"
      },
      "source": [
        "**isinstance() function** = \n",
        "                                                                                  The isinstance() functions checks whether a number belongs to a particular class and returns true or false based on the result.\n",
        "For example:\n",
        "isinstance(num, int) will return true if the number num is an integer number.\n",
        "isinstance(num, int) will return false if the number num is not an integer number."
      ]
    },
    {
      "cell_type": "code",
      "metadata": {
        "id": "OmyufVkXsB0t"
      },
      "source": [
        "a = 10 +4j \n",
        "print(isinstance(a, int))\n",
        "print(isinstance(a, float))\n",
        "print(isinstance(a, complex))"
      ],
      "execution_count": null,
      "outputs": []
    },
    {
      "cell_type": "markdown",
      "metadata": {
        "id": "6kNUM6IPHaK4"
      },
      "source": [
        "Comparison Operators = Used for comparing 2 values with the < , > , = , >=(greater equal) , == (equlity) , <=(lesser equal) , != (not equality) and get result TRUE AND FALSE .."
      ]
    },
    {
      "cell_type": "code",
      "metadata": {
        "id": "GcPEDNumHZfA"
      },
      "source": [
        "x=3>2\n",
        "print(x)"
      ],
      "execution_count": null,
      "outputs": []
    },
    {
      "cell_type": "markdown",
      "metadata": {
        "id": "CvWtl3DuJ2DA"
      },
      "source": [
        "Logical operator = Usage of \" and , or \" functions to compare two of the values or 2 statement "
      ]
    },
    {
      "cell_type": "markdown",
      "metadata": {
        "id": "knSsr0xNK3it"
      },
      "source": [
        "OR OPERATOR = \n",
        "to find if the price is less than 30 or greater than 10 , if any one of the statement is true it prints true "
      ]
    },
    {
      "cell_type": "code",
      "metadata": {
        "id": "jqtERW17J1pz"
      },
      "source": [
        "price=25\n",
        "print(price > 10 or price < 30 )"
      ],
      "execution_count": null,
      "outputs": []
    },
    {
      "cell_type": "markdown",
      "metadata": {
        "id": "DMv9U6ixLDf8"
      },
      "source": [
        "AND OPERATOR = \n",
        "to find if the price is less than 30 and greater than 10 , if two of the statement is true , then it prints true.AND OPER\\ATOR"
      ]
    },
    {
      "cell_type": "code",
      "metadata": {
        "id": "KsJ6E2rgLDEm"
      },
      "source": [
        "price=25\n",
        "print(price > 10 and price < 30 )"
      ],
      "execution_count": null,
      "outputs": []
    },
    {
      "cell_type": "markdown",
      "metadata": {
        "id": "vdMw9WIQLia_"
      },
      "source": [
        "NOT OPERATOR = \n",
        "this functions makes the system to think in a way that if the condition shown in the line is true then it will show false , as invert function of the original result is used ."
      ]
    },
    {
      "cell_type": "code",
      "metadata": {
        "id": "F5Kem1yhLiLv"
      },
      "source": [
        "price=25\n",
        "print(not price > 10 )"
      ],
      "execution_count": null,
      "outputs": []
    },
    {
      "cell_type": "markdown",
      "metadata": {
        "id": "FO1Nw7xNM0KX"
      },
      "source": [
        "IF FUNCTIONS \n"
      ]
    },
    {
      "cell_type": "code",
      "metadata": {
        "id": "mWclhFxhMz7m"
      },
      "source": [
        "T=float(input(\"how is the temperature there ? \"))\n",
        "if T < 0 or T == 0:\n",
        "   print(\"you will die cold \")\n",
        "if  T > 0 and T <= 20 :\n",
        "   print(\"wow , lil bit cold \")\n",
        "if T > 20 and T <= 30 :\n",
        "  print(\"wow , nice weather \")\n",
        "if T > 30 and T <= 40 :\n",
        "  print(\"Drink some cold water ..LOL\")\n",
        "if T > 40 :\n",
        "  print(\" You will die\")"
      ],
      "execution_count": null,
      "outputs": []
    },
    {
      "cell_type": "markdown",
      "metadata": {
        "id": "79VZOBdJZ10g"
      },
      "source": [
        "EXERCISE = convertig the weight to lbs and kg .."
      ]
    },
    {
      "cell_type": "code",
      "metadata": {
        "id": "aqrSDcRqZ1q0"
      },
      "source": [
        "weight= int(input(\"whats your weight ? \"))\n",
        "unit= input(\" (k)g or (L)bs\")\n",
        "if unit.upper() == \"K\" :\n",
        "    converted = weight * 1\n",
        "    print(\"your weight in kg is \" + str(converted))\n",
        "if unit.upper() == \"L\": \n",
        "   a = weight /0.45\n",
        "   print(\"your weight in pound  is \" + str(a))"
      ],
      "execution_count": null,
      "outputs": []
    },
    {
      "cell_type": "markdown",
      "metadata": {
        "id": "oY_lAPMe1xR1"
      },
      "source": [
        "**RE FUNCTION**"
      ]
    },
    {
      "cell_type": "markdown",
      "metadata": {
        "id": "en8Iu1IPnbVE"
      },
      "source": [
        "**WHILE** **LOOPS** => i = initial number , While condition indices the effect of loop . in which the second number used is the termila number and needed to print that number , while it gives the equation i=i+1 , so the equation terminates when the value of i is equal to the terminal value used"
      ]
    },
    {
      "cell_type": "code",
      "metadata": {
        "id": "A0Oy55hNnbF_"
      },
      "source": [
        "i = 1\n",
        "while i <=10 :\n",
        "      print(i)\n",
        "      i=i+1"
      ],
      "execution_count": null,
      "outputs": []
    },
    {
      "cell_type": "markdown",
      "metadata": {
        "id": "TCtSoORcpcCW"
      },
      "source": [
        "making star stairs using while loop ..we can multiply any thing to that number sequence or pattern that we can get in operating the normal code to our necessory codes ."
      ]
    },
    {
      "cell_type": "code",
      "metadata": {
        "id": "6yETpNoPpb2d"
      },
      "source": [
        "i = 1\n",
        "while i <=10 :\n",
        "      print(i * \"*\" )\n",
        "      i=i+1"
      ],
      "execution_count": null,
      "outputs": []
    },
    {
      "cell_type": "markdown",
      "metadata": {
        "id": "I6t7mMe2qAgc"
      },
      "source": [
        "***LISTS*** = used in sq.brackets , can be used to print the things from the list that we have given to the system and we can use the numbers in the sq.bracket , to find the names in order ."
      ]
    },
    {
      "cell_type": "code",
      "metadata": {
        "id": "ZBsudXc1qAWE"
      },
      "source": [
        "names =[\"ADI\", \"KANNAN\" , 'UNNI' , 'PARU', \"SREE\"]\n",
        "print(names)"
      ],
      "execution_count": null,
      "outputs": []
    },
    {
      "cell_type": "code",
      "metadata": {
        "id": "1LxcpTdPq8LI"
      },
      "source": [
        "names =[\"ADI\", \"KANNAN\" , 'UNNI' , 'PARU', \"SREE\"]\n",
        "print(names[0])"
      ],
      "execution_count": null,
      "outputs": []
    },
    {
      "cell_type": "code",
      "metadata": {
        "id": "2TT4O6vZrAvz"
      },
      "source": [
        "names =[\"ADI\", \"KANNAN\" , 'UNNI' , 'PARU', \"SREE\"]\n",
        "print(names[-1])"
      ],
      "execution_count": null,
      "outputs": []
    },
    {
      "cell_type": "code",
      "metadata": {
        "id": "z50QdnKcrFk2"
      },
      "source": [
        "names =[\"ADI\", \"KANNAN\" , 'UNNI' , 'PARU', \"SREE\"]\n",
        "print(names[3])"
      ],
      "execution_count": null,
      "outputs": []
    },
    {
      "cell_type": "markdown",
      "metadata": {
        "id": "RlFcLGOeslar"
      },
      "source": [
        "replaing one name with another using the number ."
      ]
    },
    {
      "cell_type": "code",
      "metadata": {
        "id": "gahBeP6BrqKE"
      },
      "source": [
        "names =[\"ADI\", \"KANNAN\" , 'UNNI' , 'PARU', \"SREE\"]\n",
        "names[0]= \"ADDI\"\n",
        "print(names)"
      ],
      "execution_count": null,
      "outputs": []
    },
    {
      "cell_type": "markdown",
      "metadata": {
        "id": "_GAU89Hosu8C"
      },
      "source": [
        "to select a range of names from number 0-2 , but in code we need to write the number as 0- 3 so that the 3 is excluded and only show the number from 1-2 ."
      ]
    },
    {
      "cell_type": "code",
      "metadata": {
        "id": "jHtuFA--ssCW"
      },
      "source": [
        "names =[\"ADI\", \"KANNAN\" , 'UNNI' , 'PARU', \"SREE\"]\n",
        "names[0]= \"ADDI\"\n",
        "print(names[0:3])"
      ],
      "execution_count": null,
      "outputs": []
    },
    {
      "cell_type": "markdown",
      "metadata": {
        "id": "wmtv2xcVWVeh"
      },
      "source": [
        "**2D LISTS**"
      ]
    },
    {
      "cell_type": "code",
      "metadata": {
        "id": "6JW4O4ekWU2s"
      },
      "source": [
        "#TO MAKE A 2D LIST \n",
        "matrix=[\n",
        "        [1,2,3],\n",
        "        [4,5,6],\n",
        "        [7,8,9]\n",
        "]\n",
        "\n",
        "#to access a list of line .\n",
        "print(matrix[0])\n",
        "#to print a number from a list.\n",
        "print(matrix[0][2])\n",
        "#print row of lines .\n",
        "for raw in matrix:\n",
        "  for a in raw:\n",
        "   print(a)"
      ],
      "execution_count": null,
      "outputs": []
    },
    {
      "cell_type": "markdown",
      "metadata": {
        "id": "oqyF6NrItQVQ"
      },
      "source": [
        "**LIST** **METHODS** "
      ]
    },
    {
      "cell_type": "markdown",
      "metadata": {
        "id": "Foc9QCrqt0rt"
      },
      "source": [
        "append list , using the code uppend()  , we can insert a new value in our list at the end ."
      ]
    },
    {
      "cell_type": "code",
      "metadata": {
        "id": "zxii57v2tP6O"
      },
      "source": [
        "numbers=[1,2,3,4,5,]\n",
        "numbers.append(6)\n",
        "print(numbers)"
      ],
      "execution_count": null,
      "outputs": []
    },
    {
      "cell_type": "markdown",
      "metadata": {
        "id": "kyG23Fp2uQCV"
      },
      "source": [
        "INSERT METHOD ,using the code insert() , we can insert a new value in our list at the middle or the start . in bracket the first number should be the place where to insert the number and the second one the number that is needed to be inserted t that point ."
      ]
    },
    {
      "cell_type": "code",
      "metadata": {
        "id": "7H0B7FrwuQMb"
      },
      "source": [
        "numbers=[1,2,3,4,5,]\n",
        "numbers.insert(3,6)\n",
        "print(numbers)"
      ],
      "execution_count": null,
      "outputs": []
    },
    {
      "cell_type": "code",
      "metadata": {
        "id": "-lhXtoqqwAk1"
      },
      "source": [
        "numbers=[1,2,3,4,5,]\n",
        "numbers.remove(3)\n",
        "print(numbers)"
      ],
      "execution_count": null,
      "outputs": []
    },
    {
      "cell_type": "code",
      "metadata": {
        "id": "8I0PQALUwKG0"
      },
      "source": [
        "numbers=[1,2,3,4,5,]\n",
        "numbers.clear()\n",
        "print(numbers)"
      ],
      "execution_count": null,
      "outputs": []
    },
    {
      "cell_type": "markdown",
      "metadata": {
        "id": "0Xp_rR78Y976"
      },
      "source": [
        "to delete last number"
      ]
    },
    {
      "cell_type": "code",
      "metadata": {
        "id": "K_zNlwyaY5M9"
      },
      "source": [
        "numbers=[1,2,3,4,5,]\n",
        "numbers.pop()\n",
        "print(numbers)"
      ],
      "execution_count": null,
      "outputs": []
    },
    {
      "cell_type": "markdown",
      "metadata": {
        "id": "WeIvR1USZQu_"
      },
      "source": [
        "to make in a ascending order.."
      ]
    },
    {
      "cell_type": "code",
      "metadata": {
        "id": "aoZPBpXoZQeP"
      },
      "source": [
        "numbers=[3,4,2,1,5,6,9]\n",
        "numbers.sort()\n",
        "print(numbers)"
      ],
      "execution_count": null,
      "outputs": []
    },
    {
      "cell_type": "markdown",
      "metadata": {
        "id": "0MusFeIvZhz5"
      },
      "source": [
        "to make it in descending order."
      ]
    },
    {
      "cell_type": "code",
      "metadata": {
        "id": "8S-l3zWPZhnZ"
      },
      "source": [
        "numbers=[1,2,3,4,5,]\n",
        "numbers.reverse()\n",
        "print(numbers)"
      ],
      "execution_count": null,
      "outputs": []
    },
    {
      "cell_type": "markdown",
      "metadata": {
        "id": "1zTyhfYEZszZ"
      },
      "source": [
        "copy our list"
      ]
    },
    {
      "cell_type": "code",
      "metadata": {
        "id": "Gk5LB6etZsmi"
      },
      "source": [
        "numbers=[1,2,3,4,5,]\n",
        "a=numbers.copy()\n",
        "print(a)"
      ],
      "execution_count": null,
      "outputs": []
    },
    {
      "cell_type": "markdown",
      "metadata": {
        "id": "0nzSxX-IxQOM"
      },
      "source": [
        "to find a number is present there "
      ]
    },
    {
      "cell_type": "code",
      "metadata": {
        "id": "UUUVzxzUwRPK"
      },
      "source": [
        "numbers=[1,2,3,4,5,]\n",
        "print(2 in numbers)"
      ],
      "execution_count": null,
      "outputs": []
    },
    {
      "cell_type": "code",
      "metadata": {
        "id": "qRZNfcWvwpAh"
      },
      "source": [
        "numbers=[1,2,3,4,5,]\n",
        "print(6 in numbers)"
      ],
      "execution_count": null,
      "outputs": []
    },
    {
      "cell_type": "markdown",
      "metadata": {
        "id": "JW68j0ZfxGVC"
      },
      "source": [
        "To find the length of the list that we have given."
      ]
    },
    {
      "cell_type": "code",
      "metadata": {
        "id": "VsU2on3Zw9dN"
      },
      "source": [
        "numbers=[1,2,3,4,5,]\n",
        "print(len(numbers))"
      ],
      "execution_count": null,
      "outputs": []
    },
    {
      "cell_type": "markdown",
      "metadata": {
        "id": "Nm5zYEKAxsSi"
      },
      "source": [
        "**FOR** **LOOP**"
      ]
    },
    {
      "cell_type": "markdown",
      "metadata": {
        "id": "oqPvIyLcytO3"
      },
      "source": [
        "used to print the list in a vertical order , that = **for** all the **items in** the **number** "
      ]
    },
    {
      "cell_type": "code",
      "metadata": {
        "id": "qyhoz0qHxsHY"
      },
      "source": [
        "numbers=[1,2,3,4,5,6,7,8,9,10]\n",
        "for item in numbers:\n",
        "         print(item)"
      ],
      "execution_count": null,
      "outputs": []
    },
    {
      "cell_type": "markdown",
      "metadata": {
        "id": "Q6i4aJmbzOPk"
      },
      "source": [
        "same code in while loop "
      ]
    },
    {
      "cell_type": "code",
      "metadata": {
        "id": "es260ibBzOGc"
      },
      "source": [
        "numbers=[1,2,3,4,5,6,7,8,9,10]\n",
        "i=0\n",
        "while i < len(numbers):\n",
        "      i=i+1\n",
        "      print(i)"
      ],
      "execution_count": null,
      "outputs": []
    },
    {
      "cell_type": "markdown",
      "metadata": {
        "id": "u4fDFzwzPlXB"
      },
      "source": [
        "**FOR LOOP FOR CO-ORDINATES**"
      ]
    },
    {
      "cell_type": "code",
      "metadata": {
        "id": "Eh1k-Ea8Pk-U"
      },
      "source": [
        "for x in range(4):\n",
        "  for y in range(3):\n",
        "    print(f\"({x} , {y})\")"
      ],
      "execution_count": null,
      "outputs": []
    },
    {
      "cell_type": "markdown",
      "metadata": {
        "id": "wtgRZR0E0cD1"
      },
      "source": [
        "**THE** **RANGE** **FUNCTION**  = it will give the range of the function that the number is given - if we gave number 5 the range of the number is (0,5 ), si it will show the numbers from the 0-5."
      ]
    },
    {
      "cell_type": "code",
      "metadata": {
        "id": "7kRPM1Tm0b35"
      },
      "source": [
        "numbers=range(5)\n",
        "for number in numbers :\n",
        "     print(number)"
      ],
      "execution_count": null,
      "outputs": []
    },
    {
      "cell_type": "code",
      "metadata": {
        "id": "xu-Qaue615YN"
      },
      "source": [
        "numbers=range(-10,5)\n",
        "for number in numbers :\n",
        "     print(number)"
      ],
      "execution_count": null,
      "outputs": []
    },
    {
      "cell_type": "markdown",
      "metadata": {
        "id": "fHD7L_012rBe"
      },
      "source": [
        "3rd number in the bracket give the step by which it leaps "
      ]
    },
    {
      "cell_type": "code",
      "metadata": {
        "id": "nP3cA2lv2q2X"
      },
      "source": [
        "numbers=range(5,10,2)\n",
        "for number in numbers :\n",
        "     print(number)"
      ],
      "execution_count": null,
      "outputs": []
    },
    {
      "cell_type": "markdown",
      "metadata": {
        "id": "xhYLRlNj3pXZ"
      },
      "source": [
        "**TUPLES** tuples are un changable list in which no changes can be done ."
      ]
    },
    {
      "cell_type": "markdown",
      "metadata": {
        "id": "iCDEEtrgnqbT"
      },
      "source": [
        "Adding two tuples ."
      ]
    },
    {
      "cell_type": "code",
      "metadata": {
        "id": "3uJ2_tLXnqOn"
      },
      "source": [
        "tuple1 = (\"a\", \"b\" , \"c\")\n",
        "tuple2 = (1, 2, 3)\n",
        "\n",
        "tuple3 = tuple1 + tuple2\n",
        "print(tuple3)"
      ],
      "execution_count": null,
      "outputs": []
    },
    {
      "cell_type": "markdown",
      "metadata": {
        "id": "jo3WvPOHCvck"
      },
      "source": [
        "count function "
      ]
    },
    {
      "cell_type": "code",
      "metadata": {
        "id": "J7CONCS93pvZ"
      },
      "source": [
        "numbers=(1,2,3,4,5,5,6,)\n",
        "numbers.count(5)"
      ],
      "execution_count": null,
      "outputs": []
    },
    {
      "cell_type": "markdown",
      "metadata": {
        "id": "mKYluS_SDWkM"
      },
      "source": [
        "Index functions "
      ]
    },
    {
      "cell_type": "code",
      "metadata": {
        "id": "nKvYK68BDWZd"
      },
      "source": [
        "numbers=(1,2,3,4,5,5,6,10,20,34,45,)\n",
        "numbers.index(2)"
      ],
      "execution_count": null,
      "outputs": []
    },
    {
      "cell_type": "markdown",
      "metadata": {
        "id": "gbzgyjwW7RxN"
      },
      "source": [
        "**UNPACKING**"
      ]
    },
    {
      "cell_type": "code",
      "metadata": {
        "id": "yfTrjm1N7Re1"
      },
      "source": [
        "a=[1,2,3,4,5,6]\n",
        "x=a[0]\n",
        "y=a[3]\n",
        "z=a[5]\n",
        "b=x*y*z\n",
        "print(b)"
      ],
      "execution_count": null,
      "outputs": []
    },
    {
      "cell_type": "markdown",
      "metadata": {
        "id": "7ilicxDE7zGB"
      },
      "source": [
        "**or**\n"
      ]
    },
    {
      "cell_type": "code",
      "metadata": {
        "id": "KrCWFsbm8KrH"
      },
      "source": [
        "a=[2,4,6]\n",
        "a=x,y,z\n",
        "b=x*y*z\n",
        "print(b)\n",
        "print(z)\n",
        "print(x)\n",
        "print(y)"
      ],
      "execution_count": null,
      "outputs": []
    },
    {
      "cell_type": "markdown",
      "metadata": {
        "id": "_e6f8tU98h28"
      },
      "source": [
        "**DICTIONARY**"
      ]
    },
    {
      "cell_type": "code",
      "metadata": {
        "id": "Jq2GFfMW8hpm"
      },
      "source": [
        "customer={\n",
        "    \"name\":\"ADITHYA S NAIR\",\n",
        "    \"age\":19,\n",
        "    \"birthday\":\"26 sept 2002\",\n",
        "    \"school\":\"sreyas public school\"\n",
        "}\n",
        "print(customer[\"name\"])\n",
        "print(customer[\"age\"])\n",
        "print(customer[\"birthday\"])\n",
        "print(customer[\"school\"])\n"
      ],
      "execution_count": null,
      "outputs": []
    },
    {
      "cell_type": "code",
      "metadata": {
        "id": "U3X2w_HRBsb3"
      },
      "source": [
        "# show error \n",
        "customer={\n",
        "    \"name\":\"ADITHYA S NAIR\",\n",
        "    \"age\":19,\n",
        "    \"birthday\":\"26 sept 2002\",\n",
        "    \"school\":\"sreyas public school\"\n",
        "}\n",
        "print(customer[\"kundali\"])"
      ],
      "execution_count": null,
      "outputs": []
    },
    {
      "cell_type": "code",
      "metadata": {
        "id": "CJ6AAgQmB-nF"
      },
      "source": [
        "# show error \n",
        "customer={\n",
        "    \"name\":\"ADITHYA S NAIR\",\n",
        "    \"age\":19,\n",
        "    \"birthday\":\"26 sept 2002\",\n",
        "    \"school\":\"sreyas public school\"\n",
        "}\n",
        "print(customer.get(\"kundali\"))"
      ],
      "execution_count": null,
      "outputs": []
    },
    {
      "cell_type": "markdown",
      "metadata": {
        "id": "5gEK5wSGFk_r"
      },
      "source": [
        "Exercise for finding even numbers "
      ]
    },
    {
      "cell_type": "code",
      "metadata": {
        "id": "Z_0HmH80Fk0H"
      },
      "source": [
        "count = 0\n",
        "a=int(input(\"your starting number ? \"))\n",
        "b=int(input(\"your ending number ? \"))\n",
        "numbers = range(a , b)\n",
        "for number in numbers :\n",
        " if number % 2 == 0 :\n",
        "     count += 1 \n",
        "     print(number)\n",
        "print(f\"you have {count} even numbers !\")  "
      ],
      "execution_count": null,
      "outputs": []
    },
    {
      "cell_type": "markdown",
      "metadata": {
        "id": "Ngt9jEtFLjlK"
      },
      "source": [
        "exercise #2 = given 2 integers a and b , in which need sum as return and if return is between 15 and 20 then return 20 elsereturn the origial sum "
      ]
    },
    {
      "cell_type": "code",
      "metadata": {
        "id": "8C0q6czALjZr"
      },
      "source": [
        "a=int(input(\"your first integer ? \"))\n",
        "b=int(input(\"your 2nd integer ? \"))\n",
        "c = a + b \n",
        "if c >= 15 and c <= 20 :\n",
        "  print(20)\n",
        "else :\n",
        "  print(c)"
      ],
      "execution_count": null,
      "outputs": []
    },
    {
      "cell_type": "markdown",
      "metadata": {
        "id": "dPRtQyANNliq"
      },
      "source": [
        "exercise 3 - input an array and print true if the 1st or last letter is 12 or else ,( the first 2 line code is copied from site )"
      ]
    },
    {
      "cell_type": "code",
      "metadata": {
        "id": "o2oERdmrNlX8"
      },
      "source": [
        "lst1 = []  \n",
        "lst1 = [int(item) for item in input(\"Enter the list items : \").split()]\n",
        "if (lst1[0]==12) or (lst1[-1]==12):\n",
        "    print (\"true\")\n",
        "else :\n",
        "   print (\"false\")"
      ],
      "execution_count": null,
      "outputs": []
    },
    {
      "cell_type": "markdown",
      "metadata": {
        "id": "1rsLDFMiTS4a"
      },
      "source": [
        "exercise 4 = our age in the given year .."
      ]
    },
    {
      "cell_type": "code",
      "metadata": {
        "id": "gOsyeXBzTSuy"
      },
      "source": [
        "a=int(input(\"when did you born ? \"))\n",
        "b=int(input(\"year to know the age  ? \"))\n",
        "c= b-a\n",
        "print(\"you will be \" + str(c) +  \" years old \")\n",
        "if c <= 10 :\n",
        "  print(\"you are so young to play with internet\")\n",
        "if c > 10 and c <= 50 :\n",
        "  print(\" you seem to be pretty ok\")\n",
        "if c > 50 and c <= 70:\n",
        "  print(\"you are going much older\")\n",
        "if c > 70 and c <=100 :\n",
        "  print(\" oh man you are old \")\n",
        "if c > 100 :\n",
        "  print (\" you will die tomorrow \")"
      ],
      "execution_count": null,
      "outputs": []
    },
    {
      "cell_type": "markdown",
      "metadata": {
        "id": "8-37pR09WsnU"
      },
      "source": [
        "exercise 5 = km in miles "
      ]
    },
    {
      "cell_type": "code",
      "metadata": {
        "id": "PTTE7b-VWsdN"
      },
      "source": [
        "a=float(input(\"distanc in km ? \"))\n",
        "b = a * .62\n",
        "print (\"the distance in miles is \"+ str(b)+ \" miles \")"
      ],
      "execution_count": null,
      "outputs": []
    },
    {
      "cell_type": "markdown",
      "metadata": {
        "id": "N7pu2M6nX8A4"
      },
      "source": [
        "exercise 6 = repeat the strings in pyramid .."
      ]
    },
    {
      "cell_type": "code",
      "metadata": {
        "id": "wNAgNlF8X704"
      },
      "source": [
        "a=int(input (\"the number of times the string should multiply ? \"))\n",
        "b=input (\"the string needed to repeat ? \")\n",
        "i = 1\n",
        "while i <= a :\n",
        "      print(i * b )\n",
        "      i=i+1"
      ],
      "execution_count": null,
      "outputs": []
    },
    {
      "cell_type": "markdown",
      "metadata": {
        "id": "gnL6sVNRa_-1"
      },
      "source": [
        "exercise 7 = cost founding "
      ]
    },
    {
      "cell_type": "code",
      "metadata": {
        "id": "8UIFbtbMa_wT"
      },
      "source": [
        "a=int(input (\"cost of your home ? \"))\n",
        "b=int(input (\"insurance percentage needed to be covered  ? \"))\n",
        "c=a*b/100\n",
        "print(f\"the cost needed to be paid as the insurance is {c}\")\n",
        "if b>=80 :\n",
        "  print (\"great choice you are a great personality\")\n",
        "else:\n",
        "  print(\"about 80% insurance is recomended \")\n",
        "  "
      ],
      "execution_count": null,
      "outputs": []
    },
    {
      "cell_type": "markdown",
      "metadata": {
        "id": "GOLMJ9QAY4fW"
      },
      "source": [
        "exercise 8 = Write a Python program which accepts the radius of a circle from the user and compute the area."
      ]
    },
    {
      "cell_type": "code",
      "metadata": {
        "id": "MI_6-4VKY4Vl"
      },
      "source": [
        "a=float(input(\"what is the radius you want your circle to be in cm ? \"))\n",
        "c=input(\"in which unit you want the area to be in (K)m , (M)eter , (F)oot \")\n",
        "b= 3.14 * a * a\n",
        "if c.upper() == \"K\" :\n",
        "    converted = b / 100000\n",
        "    print(\"your area in Km is \" + str(converted))\n",
        "if c.upper() == \"M\": \n",
        "   d = b / 100\n",
        "   print(\"your area in Meter  is \" + str(d))\n",
        "if c.upper() == \"F\" :\n",
        "   e = b * 0.0328084\n",
        "   print(f\"the area of your circle is {e} foot\" )\n"
      ],
      "execution_count": null,
      "outputs": []
    },
    {
      "cell_type": "markdown",
      "metadata": {
        "id": "DZO56bKrZJWP"
      },
      "source": [
        "exercise 9 = Write a Python program which accepts the user's first and last name and print them in reverse order with a space between them"
      ]
    },
    {
      "cell_type": "code",
      "metadata": {
        "id": "EA2BwscSZJLP"
      },
      "source": [
        "a=input(\"what is your first name ? \" )\n",
        "b=input(\"what is your second name ? \")\n",
        "print(f'your name in reverse order is { b } { a } ')"
      ],
      "execution_count": null,
      "outputs": []
    },
    {
      "cell_type": "markdown",
      "metadata": {
        "id": "Q1EQ-bToZYDz"
      },
      "source": [
        "exercise 10 = Write a Python program to display the first and last colors from the following list = color_list = [\"Red\",\"Green\",\"White\" ,\"Black\"]"
      ]
    },
    {
      "cell_type": "code",
      "metadata": {
        "id": "ZB5N_HklZX36"
      },
      "source": [
        "a= []  \n",
        "a= [(item) for item in input(\"Enter the list items : \").split()]\n",
        "print(a[0] )\n",
        "print(a[-1])"
      ],
      "execution_count": null,
      "outputs": []
    },
    {
      "cell_type": "markdown",
      "metadata": {
        "id": "ZH9vjDxHZlv0"
      },
      "source": [
        "exercise 11 = Write a Python program that accepts an integer (n) and computes the value of n+nn+nnn."
      ]
    },
    {
      "cell_type": "code",
      "metadata": {
        "id": "Qz9R2NcdZlj6"
      },
      "source": [
        "n = float(input(\"what is your integer ? \" ))\n",
        "b = n + n*n + n*n*n\n",
        "print(f\"the sum of n+nn+nnn is { b } \")"
      ],
      "execution_count": null,
      "outputs": []
    },
    {
      "cell_type": "markdown",
      "metadata": {
        "id": "frX7gwizZoV1"
      },
      "source": [
        "exercise 12=  Write a Python program to get the volume of a sphere with radius 6"
      ]
    },
    {
      "cell_type": "code",
      "metadata": {
        "id": "a2aHlBd4Zo3E"
      },
      "source": [
        "n = float(input(\"what is your radius ? \" ))\n",
        "a = 1.333*3.14*n*n*n\n",
        "print(f\"the volume of your sphere is {a}\")"
      ],
      "execution_count": null,
      "outputs": []
    },
    {
      "cell_type": "markdown",
      "metadata": {
        "id": "CWKhoRlsaLMc"
      },
      "source": [
        "exercise 13 = Write a Python program to get the difference between a given number and 17, if the number is greater than 17 return double the absolute difference. "
      ]
    },
    {
      "cell_type": "code",
      "metadata": {
        "id": "E5TQhh7gaLAv"
      },
      "source": [
        "a = float(input(\"what is your number ? \" ))\n",
        "b = a - 17\n",
        "if a > 17 :\n",
        "  c = 2 * b \n",
        "  print(f\"the double of the absolute difference is { c} \")\n",
        "else:\n",
        "  print(f\"the difference is { b }\")\n"
      ],
      "execution_count": null,
      "outputs": []
    },
    {
      "cell_type": "markdown",
      "metadata": {
        "id": "0BOOaLRraQn9"
      },
      "source": [
        "exercise 14 Write a Python program to test whether a number is within 100 or 1000 or 2000"
      ]
    },
    {
      "cell_type": "code",
      "metadata": {
        "id": "bntW4DmMaQeh"
      },
      "source": [
        "a = float(input(\"what is your number ? \" ))\n",
        "if a <= 100 :\n",
        "  print(\"the number is within 100 \")\n",
        "if a > 100 and a <= 1000 :\n",
        "  print(\"the number is within 100 and 1000 \")\n",
        "if a > 1000 and a <= 2000 :\n",
        "  print(\"the number is within 1000 and 2000 \")"
      ],
      "execution_count": null,
      "outputs": []
    },
    {
      "cell_type": "markdown",
      "metadata": {
        "id": "9caN5Y13aXCm"
      },
      "source": [
        "exercise 15 = Write a Python program to calculate the sum of three given numbers, if the values are equal then return three times of their sum"
      ]
    },
    {
      "cell_type": "code",
      "metadata": {
        "id": "3eyPdwQYaW4g"
      },
      "source": [
        "a = float(input(\"what is your 1st number ? \" ))\n",
        "b = float(input(\"what is your 2nd number ? \" ))\n",
        "c = float(input(\"what is your 3rd number ? \" ))\n",
        "d = a+b+c\n",
        "e = 3*d\n",
        "if a==b==c :\n",
        "  print(f\"all 3 numbers are same so the answer is {e} \")\n",
        "else :\n",
        "  print (f\"the sum of all 3 numbers is {d}\")"
      ],
      "execution_count": null,
      "outputs": []
    },
    {
      "cell_type": "markdown",
      "metadata": {
        "id": "RBxPUoHXantq"
      },
      "source": [
        "exercise 16= Write a Python program to get a string which is n (non-negative integer) copies of a given string."
      ]
    },
    {
      "cell_type": "code",
      "metadata": {
        "id": "cYdjmdWtaniZ"
      },
      "source": [
        "a=int(input (\"the number of times the string should multiply ? \"))\n",
        "b=input (\"the string needed to repeat ? \")\n",
        "i = 1\n",
        "while i <= a :\n",
        "      print(i * b )\n",
        "      i=i+1"
      ],
      "execution_count": null,
      "outputs": []
    },
    {
      "cell_type": "markdown",
      "metadata": {
        "id": "hAZEyrUmbNca"
      },
      "source": [
        "exercise 17 = Write a Python program to test whether a passed letter is a vowel or not."
      ]
    },
    {
      "cell_type": "code",
      "metadata": {
        "id": "LP-ewh98bNQK"
      },
      "source": [
        "b=input(\"the letter you want to use ? \")\n",
        "if (b==\"a\" or b==\"A\" or b==\"e\" or b==\"E\" or b== \"i\" or b=='I' or b==\"o\" or b==\"eO\" or b==\"u\" or b==\"U\"):\n",
        "  print(\"the  letter you input is a vowel\")\n",
        "else :\n",
        "  print(\"the letter that you used is consonent\")\n"
      ],
      "execution_count": null,
      "outputs": []
    },
    {
      "cell_type": "markdown",
      "metadata": {
        "id": "oE0bk4guauOH"
      },
      "source": [
        "exercise 18 = Write a Python program to find whether a given number (accept from the user) is even or odd, print out an appropriate message to the user"
      ]
    },
    {
      "cell_type": "code",
      "metadata": {
        "id": "nVDA0BVaat6v"
      },
      "source": [
        "a=float(input (\"the number of times the string should multiply ? \"))\n",
        "if a%2 == 0 :\n",
        "  print (\"the number you have given is even \")\n",
        "else:\n",
        "  print(\"the number you have given is odd\")"
      ],
      "execution_count": null,
      "outputs": []
    },
    {
      "cell_type": "markdown",
      "metadata": {
        "id": "kCZH4N4ua1NC"
      },
      "source": [
        "exercise 19 = Write a Python program to count the number 4 in a given list"
      ]
    },
    {
      "cell_type": "code",
      "metadata": {
        "id": "3c_rGkPIa1B5"
      },
      "source": [
        "a=(1 , 2, 3, 4, 5, 6, 4, 5, 6, 4, 5, 6)\n",
        "a.count(4)"
      ],
      "execution_count": null,
      "outputs": []
    },
    {
      "cell_type": "markdown",
      "metadata": {
        "id": "vgOcgPKClrwB"
      },
      "source": [
        "exercise 20 = price of a house is 1M and if a good credit man comes and buys the home the downpayment is 10 percent and else it is 20 %"
      ]
    },
    {
      "cell_type": "code",
      "metadata": {
        "id": "8e2FLMGVlrjx"
      },
      "source": [
        "a=input(\"If the person have good credits ? (y/n)\")\n",
        "e= 1000000/10\n",
        "d=1000000/20\n",
        "if a.upper()==\"Y\":\n",
        "  print(f\"The cash to be down payed is ${e} \")\n",
        "else :\n",
        "  print(f\"the cash for down payment is ${d}\")\n",
        "  "
      ],
      "execution_count": null,
      "outputs": []
    },
    {
      "cell_type": "markdown",
      "metadata": {
        "id": "llCgjubarrud"
      },
      "source": [
        "exercise 21 = name length \n",
        "if name is 3 or less letter long then print(name must be atleast 3 character long)and is the name is 50 character long print(name shoulnt be long like that ) or else print good name \n"
      ]
    },
    {
      "cell_type": "code",
      "metadata": {
        "id": "CW-i1fhVrrY6"
      },
      "source": [
        "a=input(\"Your name ? \")\n",
        "if len(a) < 3:\n",
        "  print(\"name must be have atleast 3 characte long\")\n",
        "elif len(a) >50:\n",
        "  print(\"Name cant be maximum than 50 letter long \")\n",
        "else:\n",
        "  print(\"your name is beautiful\")"
      ],
      "execution_count": null,
      "outputs": []
    },
    {
      "cell_type": "markdown",
      "metadata": {
        "id": "73DmN599vT4N"
      },
      "source": [
        "exercise 22 - weight in kg or pound "
      ]
    },
    {
      "cell_type": "code",
      "metadata": {
        "id": "A4NpmFLIvTrL"
      },
      "source": [
        "a=float(input(\"what is your weight ?\"))\n",
        "b=input(\"weight unit that is input (k/p)\")\n",
        "c=input(\" need the out put in kg or pound , if kg (k) and is pound (p)\")\n",
        "d=a*2.20462\n",
        "e=a*0.453592\n",
        "if b.upper()==\"K\" and c.upper()==\"P\":\n",
        "  print(f\"you weight in pounds is {d}\")\n",
        "if b.upper()==\"K\" and c.upper()==\"K\":\n",
        "  print(f\"you weight in kilogram is {a}\")\n",
        "if b.upper()==\"P\" and c.upper()==\"K\":\n",
        "  print(f\"you weight in kilogram is {e}\")\n",
        "if b.upper()==\"P\" and c.upper()==\"P\":\n",
        "  print(f\"you weight in pounds is {a}\")\n",
        "\n"
      ],
      "execution_count": null,
      "outputs": []
    },
    {
      "cell_type": "markdown",
      "metadata": {
        "id": "cTBWRDfvy5JL"
      },
      "source": [
        "\n",
        "exercise 23- car racing game .."
      ]
    },
    {
      "cell_type": "code",
      "metadata": {
        "id": "itsxo53NwHTK"
      },
      "source": [
        "started = False\n",
        "a=input(\"> \")\n",
        "while a!=\"QUIT\":\n",
        "  if a.upper()== \"HELP\":\n",
        "    print(\"START = FOR STARTING THE GAME\")\n",
        "    print(\"STOP = FOR STOPPING THE GAME\")\n",
        "    print(\"QUIT = FOR ENDING THE GAME\")\n",
        "  elif a.upper()==\"START\":\n",
        "     if started :\n",
        "       print(\"The car is already started \")\n",
        "     else:\n",
        "        started=True\n",
        "        print(\"starting the game\")\n",
        "  elif a.upper() ==\"STOP\":\n",
        "    if not started:\n",
        "       print(\"car is already not started\")\n",
        "    else:\n",
        "        started =False\n",
        "        print(\"stopping the game\")\n",
        "  elif a.upper() ==\"QUIT\":\n",
        "      break\n",
        "  else:\n",
        "    print(\"I don't understand\")"
      ],
      "execution_count": null,
      "outputs": []
    },
    {
      "cell_type": "markdown",
      "metadata": {
        "id": "Az4cy-lUqhXe"
      },
      "source": [
        "exercise 24 = Write a Python program to convert temperatures to and from celsius, fahrenheit.  === Formula : c/5 = f-32/9 [ where c = temperature in celsius and f = temperature in fahrenheit ]\n",
        "Expected Output :\n",
        "60°C is 140 in Fahrenheit\n",
        "45°F is 7 in Celsius"
      ]
    },
    {
      "cell_type": "code",
      "metadata": {
        "id": "DwebmJ_zqhHO"
      },
      "source": [
        "a=float(input(\"the temperature ? \"))\n",
        "b= input(\"which temp to which - (a) for celsius to fahrenheit, and (b) for fahrenheit to celsius\")\n",
        "temp_in_fahrenheit = (9*a +32*5)/5\n",
        "temp_in_celsius=(5*(a-32))/9\n",
        "if b.upper()==\"A\":\n",
        "  print(f\"the temp_in_fahrenheit is {temp_in_fahrenheit}\")\n",
        "if b.upper()==\"B\":\n",
        "    print(f\"temp_in_celsius is {temp_in_celsius}\")\n"
      ],
      "execution_count": null,
      "outputs": []
    },
    {
      "cell_type": "markdown",
      "metadata": {
        "id": "NByQeUd8q90a"
      },
      "source": [
        "exercise 25 = Write a Python program to guess a number between 1 to 9. Go to the editor\n",
        "Note : User is prompted to enter a guess. If the user guesses wrong then the prompt appears again until the guess is correct, on successful guess, user will get a \"Well guessed!\" message, and the program will exit."
      ]
    },
    {
      "cell_type": "code",
      "metadata": {
        "id": "cl6Zs3Hiq9lw"
      },
      "source": [
        "print(\"YOU HAVE 3 CHANCES TO FIND THE CORRECT SECRET NUMBER , BETWEEN 0-10 ( GOOD LUCK , FELLAS )\")\n",
        "secret_number = 7\n",
        "guess_count= 0\n",
        "guess_limit=3\n",
        "while guess_count < guess_limit:\n",
        "  guess=int(input(\"GUESS  >\"))\n",
        "  guess_count=guess_count+1\n",
        "  if guess == secret_number:\n",
        "    print(\"you won \")\n",
        "    break"
      ],
      "execution_count": null,
      "outputs": []
    },
    {
      "cell_type": "markdown",
      "metadata": {
        "id": "h3mhTIxHDZvH"
      },
      "source": [
        "exercise 26 = Write a Python program to create the multiplication table (from 1 to 10) of a number. Go to the editor\n",
        "Expected Output:\n",
        "\n",
        "Input a number: 6                                                       \n",
        "6 x 1 = 6                                                               \n",
        "6 x 2 = 12                                                              \n",
        "6 x 3 = 18                                                              \n",
        "6 x 4 = 24                                                              \n",
        "6 x 5 = 30                                                              \n",
        "6 x 6 = 36                                                              \n",
        "6 x 7 = 42                                                              \n",
        "6 x 8 = 48                                                              \n",
        "6 x 9 = 54                                                              \n",
        "6 x 10 = 60"
      ]
    },
    {
      "cell_type": "code",
      "metadata": {
        "id": "UOWhzzSiDYFZ"
      },
      "source": [
        "a=int(input(\"Give a number for multliply > \"))\n",
        "b=a*1\n",
        "c=a*2\n",
        "d=a*3\n",
        "e=a*4\n",
        "f=a*5\n",
        "g=a*6\n",
        "h=a*7\n",
        "i=a*8\n",
        "j=a*9\n",
        "k=a*10\n",
        "print(f\"{a} x 1 = {b}\")\n",
        "print(f\"{a} x 2 = {c}\")\n",
        "print(f\"{a} x 3 = {d}\")\n",
        "print(f\"{a} x 4 = {e}\")\n",
        "print(f\"{a} x 5 = {f}\")\n",
        "print(f\"{a} x 6 = {g}\")\n",
        "print(f\"{a} x 7 = {h}\")\n",
        "print(f\"{a} x 8 = {i}\")\n",
        "print(f\"{a} x 9 = {j}\")\n",
        "print(f\"{a} x 10 = {k}\")"
      ],
      "execution_count": null,
      "outputs": []
    },
    {
      "cell_type": "markdown",
      "metadata": {
        "id": "cdvLrWwUOJ4l"
      },
      "source": [
        "or "
      ]
    },
    {
      "cell_type": "code",
      "metadata": {
        "id": "r_QsKOWGOK4s"
      },
      "source": [
        "n = int(input(\"Input a number: \"))\n",
        "\n",
        "# use for loop to iterate 10 times\n",
        "for i in range(1,11):\n",
        "   print(n,'x',i,'=',n*i)\n",
        "   "
      ],
      "execution_count": null,
      "outputs": []
    },
    {
      "cell_type": "markdown",
      "metadata": {
        "id": "yL_1St3x_lN2"
      },
      "source": [
        "exercise 28= Write a Python program to get the Fibonacci series between 0 to 50. Go to the editor\n",
        "Note : The Fibonacci Sequence is the series of numbers :\n",
        "0, 1, 1, 2, 3, 5, 8, 13, 21, ....\n",
        "Every next number is found by adding up the two numbers before it.\n",
        "Expected Output : 1 1 2 3 5 8 13 21 34"
      ]
    },
    {
      "cell_type": "code",
      "metadata": {
        "id": "RZhbO-u4_k6c"
      },
      "source": [
        "c=int(input(\"to which extent you need the seris to continue \"))\n",
        "x,y=0,1\n",
        "while y<c:\n",
        "    print(y)\n",
        "    x,y = y,x+y\n",
        "\t"
      ],
      "execution_count": null,
      "outputs": []
    },
    {
      "cell_type": "markdown",
      "metadata": {
        "id": "7CRQJzeU_yoB"
      },
      "source": [
        "exercise 29 = Write a Python program which iterates the integers from 1 to 50. For multiples of three print \"Fizz\" instead of the number and for the multiples of five print \"Buzz\". For numbers which are multiples of both three and five print \"FizzBuzz\".\n",
        "Sample Output :\n",
        "fizzbuzz\n",
        "1\n",
        "2\n",
        "fizz\n",
        "4\n",
        "buzz"
      ]
    },
    {
      "cell_type": "code",
      "metadata": {
        "id": "1_NrHBQp1KLn"
      },
      "source": [
        "b=int(input('the number till you wanted > '))\n",
        "a=range(0,b)\n",
        "for x in a :\n",
        "  if x % 5== 0 and x % 3 == 0:\n",
        "    print(\"FizzBuzz\")\n",
        "  elif x % 3 == 0 :\n",
        "    print(\"Fizz\")\n",
        "  elif x % 5== 0:\n",
        "    print(\"Buzz\")\n",
        "  else :\n",
        "    print(x)"
      ],
      "execution_count": null,
      "outputs": []
    },
    {
      "cell_type": "markdown",
      "metadata": {
        "id": "BNpTSJwmAz_R"
      },
      "source": [
        "exercise 31= Write a Python program that accepts a string and calculate the number of digits and letters. Go to the editor\n",
        "Sample Data : Python 3.2\n",
        "Expected Output :\n",
        "Letters 6\n",
        "Digits 2 ( CODE COPIED )"
      ]
    },
    {
      "cell_type": "code",
      "metadata": {
        "id": "AaO8eo0wAzyb"
      },
      "source": [
        "s = input(\"Input a string > \")\n",
        "d=l=0\n",
        "for c in s:\n",
        "    if c.isdigit():\n",
        "        d=d+1\n",
        "    elif c.isalpha():\n",
        "        l=l+1 \n",
        "    else:\n",
        "        pass\n",
        "print(\"Letters\", l)\n",
        "print(\"Digits\", d)\n"
      ],
      "execution_count": null,
      "outputs": []
    },
    {
      "cell_type": "markdown",
      "metadata": {
        "id": "FpF_k68kA4dO"
      },
      "source": [
        "exercise 32 = Write a Python program to check the validity of password input by users. Go to the editor\n",
        "Validation :\n",
        "\n",
        "At least 1 letter between [a-z] and 1 letter between [A-Z].\n",
        "At least 1 number between [0-9].\n",
        "At least 1 character from [$#@].\n",
        "Minimum length 6 characters.\n",
        "Maximum length 16 characters."
      ]
    },
    {
      "cell_type": "code",
      "metadata": {
        "id": "2kIfpx93A4OJ"
      },
      "source": [
        "import re\n",
        "p=input(\"YOUR PASSWORD > \")\n",
        "a=True\n",
        "while a:\n",
        "#length of password \n",
        "\n",
        "  if len(p)<6 or len(p)>12 :\n",
        "    if len(p)<6 :\n",
        "      print(\"The password length is less than 6 letters \")\n",
        "      break\n",
        "    elif len(p)>12:\n",
        "      print(\"The password length is more than 12 letters \")\n",
        "      break\n",
        "    else:\n",
        "      break\n",
        "# small letter check \n",
        "    if not re.search(\"[a-z]\",p):\n",
        "      break\n",
        "  \n",
        "#upper letter check\n",
        "\n",
        "  elif not re.search(\"[A-Z]\",p):\n",
        "      break\n",
        "\n",
        "#number check \n",
        "\n",
        "  elif not re.search(\"[0-9]\",p):\n",
        "      break\n",
        "\n",
        "#sigh check \n",
        "\n",
        "  elif not re.search(\"[!,@,#,$,%,&]\",p):\n",
        "      break\n",
        "\n",
        "#space check \n",
        "\n",
        "  elif re.search(\"\\s\",p):\n",
        "      break\n",
        "  else:\n",
        "    print(\"PASSWORD VALID\")\n",
        "    a=False\n",
        "    break\n",
        "\n",
        "if a:\n",
        "  print(\"PASSWORD NOT VALID\")\n"
      ],
      "execution_count": null,
      "outputs": []
    },
    {
      "cell_type": "markdown",
      "metadata": {
        "id": "hTMmjJabBqMD"
      },
      "source": [
        "exercise 33 =  Write a Python program to calculate a dog's age in dog's years. Go to the editor\n",
        "Note: For the first two years, a dog year is equal to 10.5 human years. After that, each dog year equals 4 human years.\n",
        "Expected Output:\n",
        "\n",
        "Input a dog's age in human years: 15                                    \n",
        "The dog's age in dog's years is 73"
      ]
    },
    {
      "cell_type": "code",
      "metadata": {
        "id": "6ksjKiPvBp2c"
      },
      "source": [
        "a=float(input(\"YOUR DOGS AGE IN HUMAN YEAR > \"))\n",
        "b=a-2\n",
        "c=b*4+21\n",
        "if a==1:\n",
        "  print(\"YOUR DOGS AGE IS 10.5 DOGS YEAR \")\n",
        "elif a==2:\n",
        "  print(\"YOUR DOGS AGE IS 21 DOGS YEAR \")\n",
        "else:\n",
        "  print(f\"YOUR DOGS AGE IN DOGS YEAR IS > {c}\")"
      ],
      "execution_count": null,
      "outputs": []
    },
    {
      "cell_type": "markdown",
      "metadata": {
        "id": "E5EpHMDcB0OR"
      },
      "source": [
        "exercise 34 = Write a Python program to check whether an alphabet is a vowel or consonant. Go to the editor\n",
        "Expected Output:\n",
        "\n",
        "Input a letter of the alphabet: k                                       \n",
        "k is a consonant."
      ]
    },
    {
      "cell_type": "code",
      "metadata": {
        "id": "s8KGPW-vB0Bw"
      },
      "source": [
        "c=input(\"YOUR LETTER TO BE CHECKED > \") \n",
        "if c.lower()==\"a\":\n",
        "  print(f\"{c} is a vowel \")\n",
        "elif c.lower()==\"e\":\n",
        "  print(f\"{c} is a vowel \")  \n",
        "elif c.lower()==\"i\":\n",
        "  print(f\"{c} is a vowel \")\n",
        "elif c.lower()==\"o\":\n",
        "  print(f\"{c} is a vowel \")\n",
        "elif c.lower()==\"u\":\n",
        "  print(f\"{c} is a vowel \")\n",
        "else:\n",
        "  print(f\"{c} is consonent \")\n"
      ],
      "execution_count": null,
      "outputs": []
    },
    {
      "cell_type": "markdown",
      "metadata": {
        "id": "60YuOZVTB2tI"
      },
      "source": [
        "exercise 35 = Write a Python program to convert month name to a number of days. Go to the editor\n",
        "Expected Output:\n",
        "\n",
        "List of months: January, February, March, April, May, June, July, August\n",
        ", September, October, November, December                                \n",
        "Input the name of Month: February                                       \n",
        "No. of days: 28/29 days "
      ]
    },
    {
      "cell_type": "code",
      "metadata": {
        "id": "JfpwAVCWB2hZ"
      },
      "source": [
        "a=input(\"NAME OF MONTH > \")\n",
        "if a.lower()==(\"january\"or \"march\"or \"may\" or \"july\" or \"august\" or \"october\" or \"december\"):\n",
        "  print(\"you have 31 days in a month\")\n",
        "elif a.lower()==(\"april\" or \"june\" or \"september\" or \"november\"):\n",
        "  print(\"you have 30 days in a month\")\n",
        "else :\n",
        "  b=int(input(\"THE YEAR > \"))\n",
        "  if b%4==0:\n",
        "    print(\"you have 29 days in a month\")\n",
        "  else:\n",
        "    print(\"you have 28 days in a month\")"
      ],
      "execution_count": null,
      "outputs": []
    },
    {
      "cell_type": "markdown",
      "metadata": {
        "id": "nvKbujZeCNoy"
      },
      "source": [
        "exercise 37 = Write a Python program that reads two integers representing a month and day and prints the season for that month and day. Go to the editor\n",
        "Expected Output:\n",
        "\n",
        "Input the month (e.g. January, February etc.): july                     \n",
        "Input the day: 31                                                       \n",
        "Season is autumn  "
      ]
    },
    {
      "cell_type": "code",
      "metadata": {
        "id": "FPxlODspCpzv"
      },
      "source": [
        "a=input(\"NAME OF MONTH > \")\n",
        "if a.lower()==(\"january\"or \"december\"or \"february\" ):\n",
        "  print(\"you are in WINTER \")\n",
        "elif a.lower()==(\"july\" or \"june\" or \"august\"):\n",
        "  print(\"you are in SUMMER\")\n",
        "elif a.lower()==(\"march\" or \"april\" or \"may\"):\n",
        "  print(\"you are in SPRING\")\n",
        "else:\n",
        "  print(\"you are in AUTUMN\")"
      ],
      "execution_count": null,
      "outputs": []
    },
    {
      "cell_type": "markdown",
      "metadata": {
        "id": "N5KYHPjYCngU"
      },
      "source": [
        "exercise 38 =Write a Python program to display astrological sign for given date of birth. Go to the editor\n",
        "Expected Output:\n",
        "\n",
        "Input birthday: 15                                                      \n",
        "Input month of birth (e.g. march, july etc): may                        \n",
        "Your Astrological sign is : Taurus "
      ]
    },
    {
      "cell_type": "code",
      "metadata": {
        "id": "ayddy8Bd92XQ"
      },
      "source": [
        "a=input(\"YOUR BIRTH MONTH > \").lower()\n",
        "b=int(input(\"YOUR BIRTHDAY > \"))\n",
        "if a==\"january\":\n",
        "  if b<19:\n",
        "    print(\"Capricorn\")\n",
        "  else:\n",
        "    print(\"Aquaricus\")\n",
        "elif a==\"february\":\n",
        "  if b<18 :\n",
        "    print(\"Aquaricus\")\n",
        "  else:\n",
        "    print(\"Pisces\")\n",
        "elif a==\"march\":\n",
        "  if b<20 :\n",
        "    print(\"Pisces\")\n",
        "  else:\n",
        "    print(\"Aries\")\n",
        "elif a==\"april\":\n",
        "  if b<19:\n",
        "    print(\"Aries\")\n",
        "  else:\n",
        "    print(\"Taurus\")\n",
        "elif a==\"may\":\n",
        "  if b<20:\n",
        "    print(\"Taurus\")\n",
        "  else:\n",
        "    print(\"Gemini\")\n",
        "elif a==\"june\":\n",
        "  if b<21:\n",
        "    print(\"Gemini\")\n",
        "  else:\n",
        "    print(\"Cancer\")\n",
        "elif a==\"july\":\n",
        "  if b<22:\n",
        "    print(\"Cancer\")\n",
        "  else:\n",
        "    print(\"Leo\")\n",
        "elif a==\"august\":\n",
        "  if b<22:\n",
        "    print(\"Leo\")\n",
        "  else:\n",
        "    print(\"Virgo\")\n",
        "elif a==\"september\":\n",
        "  if b<22:\n",
        "    print(\"Virgo\")\n",
        "  else:\n",
        "    print(\"Libra\")\n",
        "elif a==\"october\":\n",
        "  if b<23:\n",
        "    print(\"Libra\")\n",
        "  else:\n",
        "    print(\"Scorpio\")\n",
        "elif a== \"november\":\n",
        "  if b<22:\n",
        "    print(\"Scorpio\")\n",
        "  else:\n",
        "    print(\"Sagattirius\")\n",
        "else :\n",
        "  if b<21:\n",
        "    print(\"Sagattirius\")\n",
        "  else:\n",
        "    print(\"Capricon\")\n"
      ],
      "execution_count": null,
      "outputs": []
    },
    {
      "cell_type": "markdown",
      "metadata": {
        "id": "3KeLAv-wC4qi"
      },
      "source": [
        "exercise 39 =Write a Python program to display the sign of the Chinese Zodiac for given year in which you were born. Go to the editor\n",
        "Expected Output:\n",
        "\n",
        "Input your birth year: 1973                                             \n",
        "Your Zodiac sign : Ox  "
      ]
    },
    {
      "cell_type": "code",
      "metadata": {
        "id": "FW6URZPBC4eD"
      },
      "source": [
        "a= int(input(\"Input your birth year: \"))\n",
        "if (a - 2000) % 12 == 0:\n",
        "    print(\"Your Zodiac sign :Dragon\")\n",
        "elif (a - 2000) % 12 == 1:\n",
        "    print(\"Your Zodiac sign :Snake\")\n",
        "elif (a - 2000) % 12 == 2:\n",
        "    print(\"Your Zodiac sign :Horse\")\n",
        "elif (a - 2000) % 12 == 3:\n",
        "    print(\"Your Zodiac sign :Sheep\")\n",
        "elif (a - 2000) % 12 == 4:\n",
        "    print(\"Your Zodiac sign :Monkey\")\n",
        "elif (a - 2000) % 12 == 5:\n",
        "    print(\"Your Zodiac sign :Rooster\")\n",
        "elif (a - 2000) % 12 == 6:\n",
        "    print(\"Your Zodiac sign :Dog\")\n",
        "elif (a - 2000) % 12 == 7:\n",
        "    print(\"Your Zodiac sign :Pig\")\n",
        "elif (a - 2000) % 12 == 8:\n",
        "    print(\"Your Zodiac sign :Rat\")\n",
        "elif (a - 2000) % 12 == 9:\n",
        "    print(\"Your Zodiac sign :Ox\")\n",
        "elif (a - 2000) % 12 == 10:\n",
        "    print(\"Your Zodiac sign :Tiger\")\n",
        "else:\n",
        "    print(\"Your Zodiac sign :Hare\")\n",
        "\n",
        "\n"
      ],
      "execution_count": null,
      "outputs": []
    },
    {
      "cell_type": "markdown",
      "metadata": {
        "id": "lPM_HxTBC7c1"
      },
      "source": [
        "Exercise 40 = Write a Python program to find the median of three values."
      ]
    },
    {
      "cell_type": "code",
      "metadata": {
        "id": "idHFggiaC7Qg"
      },
      "source": [
        "a = float(input(\"Input first number: \"))\n",
        "b = float(input(\"Input second number: \"))\n",
        "c = float(input(\"Input third number: \"))\n",
        "if a > b:\n",
        "    if a < c:\n",
        "        median = a\n",
        "    elif b > c:\n",
        "        median = b\n",
        "    else:\n",
        "        median = c\n",
        "else:\n",
        "    if a > c:\n",
        "        median = a\n",
        "    elif b < c:\n",
        "        median = b\n",
        "    else:\n",
        "        median = c\n",
        "\n",
        "print(\"The median is\", median)\n"
      ],
      "execution_count": null,
      "outputs": []
    },
    {
      "cell_type": "markdown",
      "metadata": {
        "id": "Z5XbXSQuQJ-d"
      },
      "source": [
        "exercise 41 - print alphabet. **F**"
      ]
    },
    {
      "cell_type": "code",
      "metadata": {
        "id": "cLifUIShQJwx"
      },
      "source": [
        "a=[5,2,5,2,2,0]\n",
        "for x in a :\n",
        "    print(x * \"x\")\n"
      ],
      "execution_count": null,
      "outputs": []
    },
    {
      "cell_type": "markdown",
      "metadata": {
        "id": "B3G8kjYxTaTW"
      },
      "source": [
        "exercise 42 = find the largest number in a list "
      ]
    },
    {
      "cell_type": "code",
      "metadata": {
        "id": "hzjhXYTfTaCX"
      },
      "source": [
        "a = [1,2,3,4,5,6,7,8,9,]  \n",
        "b=a[0]\n",
        "for x in a :\n",
        "  if b > x :\n",
        "    b=x \n",
        "print(x)\n",
        "  "
      ],
      "execution_count": null,
      "outputs": []
    },
    {
      "cell_type": "markdown",
      "metadata": {
        "id": "9ZfFbwNOaMnf"
      },
      "source": [
        "exercise 43 = to remove duplicate in a list"
      ]
    },
    {
      "cell_type": "code",
      "metadata": {
        "id": "ANH3f2Q1aMae"
      },
      "source": [
        "numbers=[1,2,3,4,5,5,6,6,7,8,9,10]\n",
        "uniques=[]\n",
        "for number in numbers :\n",
        "  if number not in uniques:\n",
        "    uniques.append(number)\n",
        "print(uniques)\n"
      ],
      "execution_count": null,
      "outputs": []
    },
    {
      "cell_type": "markdown",
      "metadata": {
        "id": "sWx3qd4yMTuq"
      },
      "source": [
        "exercise 44 = Write a Python program to find those numbers which are divisible by 7 and multiple of 5, between 1500 and 2700 (both included)"
      ]
    },
    {
      "cell_type": "code",
      "metadata": {
        "id": "ClCBcIPrMTjc"
      },
      "source": [
        "a=int(input(\"the number to be checked > \"))\n",
        "b=a/7\n",
        "c=a/5\n",
        "if b==0 and c==0 :\n",
        "  print(f\"the number {a} is divisible by 7 and is a multiple of 5 \")\n",
        "elif b==0 and c!=0:\n",
        "  print(f\"the number {a} is divisible by 7 and is not a multiple of 5 \")\n",
        "elif b!=0 and c==0 :\n",
        "  print(f\"the number {a} is not divisible by 7 and is a multiple of 5 \")\n",
        "else :\n",
        "  print(f\"the number {a} is not divisible by 7 and is not a multiple of 5 \")\n"
      ],
      "execution_count": null,
      "outputs": []
    },
    {
      "cell_type": "markdown",
      "metadata": {
        "id": "C0nF1G51MbfX"
      },
      "source": [
        "exercise 45 == Write a Python program to construct the following pattern, using a nested for loop.\n",
        "\n",
        "* \n",
        "* * \n",
        "* * * \n",
        "* * * * \n",
        "* * * * * \n",
        "* * * * \n",
        "* * * \n",
        "* * \n",
        "*"
      ]
    },
    {
      "cell_type": "code",
      "metadata": {
        "id": "2Wy0m9T7MbR6"
      },
      "source": [
        "a=[1,3,5,7,9,11,13,11,9,7,5,3,1]\n",
        "for x in a :\n",
        "    print(x * \"x\")\n"
      ],
      "execution_count": null,
      "outputs": []
    },
    {
      "cell_type": "markdown",
      "metadata": {
        "id": "4kSRhsz9NEZs"
      },
      "source": [
        "exercise 46 = Write a Python program which accepts a sequence of comma separated 4 digit binary numbers as its input and print the numbers that are divisible by 5 in a comma separated sequence. Go to the editor\n",
        "Sample Data : 0100,0011,1010,1001,1100,1001\n",
        "Expected Output : 1010"
      ]
    },
    {
      "cell_type": "code",
      "metadata": {
        "id": "B4MXj5OTNEMt"
      },
      "source": [
        "a=int(input(\"your 4 digit number composed of only 1 and 0 > \"))\n"
      ],
      "execution_count": null,
      "outputs": []
    },
    {
      "cell_type": "markdown",
      "metadata": {
        "id": "wAYvYEBpNP1H"
      },
      "source": [
        "exercise 47 = Write a Python program to print alphabet pattern 'A'. Go to the editor\n",
        "Expected Output:\n",
        "\n",
        "  "
      ]
    },
    {
      "cell_type": "code",
      "metadata": {
        "id": "Mos1fwtYNPnq"
      },
      "source": [
        ""
      ],
      "execution_count": null,
      "outputs": []
    },
    {
      "cell_type": "markdown",
      "metadata": {
        "id": "J-yQoW1KNuWs"
      },
      "source": [
        "exercise 48 = Write a Python program to check a triangle is equilateral, isosceles or scalene. Go to the editor\n",
        "Note :\n",
        "An equilateral triangle is a triangle in which all three sides are equal.\n",
        "A scalene triangle is a triangle that has three unequal sides.\n",
        "An isosceles triangle is a triangle with (at least) two equal sides.\n",
        "Expected Output:\n",
        "\n",
        "Input lengths of the triangle sides:                                    \n",
        "x: 6                                                                    \n",
        "y: 8                                                                    \n",
        "z: 12                                                                   \n",
        "Scalene triangle "
      ]
    },
    {
      "cell_type": "code",
      "metadata": {
        "id": "8BtXBEnMNuKz"
      },
      "source": [
        ""
      ],
      "execution_count": null,
      "outputs": []
    },
    {
      "cell_type": "markdown",
      "metadata": {
        "id": "w1C7arhmOgSv"
      },
      "source": [
        "exercise 49 = Write a Python program to construct the following pattern, using a nested loop number. Go to the editor\n",
        "Expected Output:\n",
        "\n",
        "1\n",
        "22\n",
        "333\n",
        "4444\n",
        "55555\n",
        "666666\n",
        "7777777\n",
        "88888888\n",
        "999999999"
      ]
    },
    {
      "cell_type": "code",
      "metadata": {
        "id": "N91O90cuOgH6"
      },
      "source": [
        ""
      ],
      "execution_count": null,
      "outputs": []
    },
    {
      "cell_type": "markdown",
      "metadata": {
        "id": "DoePhsfoPREx"
      },
      "source": [
        "exercise 50 =Write a Python function that takes a sequence of numbers and determines whether all the numbers are different from each other."
      ]
    },
    {
      "cell_type": "code",
      "metadata": {
        "id": "PpE5NK7cPQ7E"
      },
      "source": [
        ""
      ],
      "execution_count": null,
      "outputs": []
    },
    {
      "cell_type": "markdown",
      "metadata": {
        "id": "UaN1LTvfPTs2"
      },
      "source": [
        "exercise 51 = Write a Python program to create all possible strings by using 'a', 'e', 'i', 'o', 'u'. Use the characters exactly once"
      ]
    },
    {
      "cell_type": "code",
      "metadata": {
        "id": "Q-o-CiqgPTjV"
      },
      "source": [
        ""
      ],
      "execution_count": null,
      "outputs": []
    },
    {
      "cell_type": "markdown",
      "metadata": {
        "id": "O03hlYhwPXug"
      },
      "source": [
        "exercise 52 = Write a Python program to remove and print every third number from a list of numbers until the list becomes empty."
      ]
    },
    {
      "cell_type": "code",
      "metadata": {
        "id": "zg2SqH9EPXlQ"
      },
      "source": [
        ""
      ],
      "execution_count": null,
      "outputs": []
    },
    {
      "cell_type": "markdown",
      "metadata": {
        "id": "cup5K65GPcgP"
      },
      "source": [
        "https://www.w3resource.com/python-exercises/basic/"
      ]
    },
    {
      "cell_type": "markdown",
      "metadata": {
        "id": "Tn71Dd5QxWVS"
      },
      "source": [
        "# **palindromic sequence ...**"
      ]
    },
    {
      "cell_type": "code",
      "metadata": {
        "id": "KyLL-1y0vBAN"
      },
      "source": [
        "a=input(\"an array > \")\n",
        "b=a[:: -1]\n",
        "if a==b :\n",
        "  print(\" It is a palindrome\")\n",
        "else :\n",
        "  print(\"It is not an palindrome \")\n"
      ],
      "execution_count": null,
      "outputs": []
    },
    {
      "cell_type": "code",
      "metadata": {
        "id": "c2P9_24JxdMZ"
      },
      "source": [
        "a=int(input(\"the extent you needed to go > \"))\n",
        "x,y=0,1\n",
        "while y<=a :\n",
        "  print(y)\n",
        "  x,y=y,x+y\n",
        "  "
      ],
      "execution_count": null,
      "outputs": []
    }
  ]
}